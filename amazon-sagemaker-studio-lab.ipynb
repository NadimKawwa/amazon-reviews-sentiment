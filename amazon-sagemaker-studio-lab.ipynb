{
 "cells": [
  {
   "cell_type": "markdown",
   "id": "52e5dc13-6fb5-4179-9b79-47133a46f616",
   "metadata": {},
   "source": [
    "Source:\n",
    "https://github.com/aws-samples/aws-machine-learning-university-accelerated-nlp/blob/master/notebooks/MLA-NLP-Lecture2-Sagemaker.ipynb"
   ]
  },
  {
   "cell_type": "code",
   "execution_count": 1,
   "id": "f65ae934-92e5-43f5-be80-86aea38b7edd",
   "metadata": {},
   "outputs": [
    {
     "name": "stdout",
     "output_type": "stream",
     "text": [
      "\u001b[33mWARNING: You are using pip version 21.3.1; however, version 22.1.2 is available.\n",
      "You should consider upgrading via the '/home/studio-lab-user/.conda/envs/default/bin/python -m pip install --upgrade pip' command.\u001b[0m\n",
      "Note: you may need to restart the kernel to use updated packages.\n"
     ]
    }
   ],
   "source": [
    "%pip install -q -r requirements.txt"
   ]
  },
  {
   "cell_type": "code",
   "execution_count": 2,
   "id": "278f79d5-6200-4e73-9d38-1abf790d92c3",
   "metadata": {},
   "outputs": [
    {
     "name": "stderr",
     "output_type": "stream",
     "text": [
      "[nltk_data] Downloading package punkt to /home/studio-lab-\n",
      "[nltk_data]     user/nltk_data...\n",
      "[nltk_data]   Package punkt is already up-to-date!\n",
      "[nltk_data] Downloading package stopwords to /home/studio-lab-\n",
      "[nltk_data]     user/nltk_data...\n",
      "[nltk_data]   Package stopwords is already up-to-date!\n"
     ]
    },
    {
     "data": {
      "text/plain": [
       "True"
      ]
     },
     "execution_count": 2,
     "metadata": {},
     "output_type": "execute_result"
    }
   ],
   "source": [
    "import re\n",
    "import pandas as pd\n",
    "import numpy as np\n",
    "import nltk\n",
    "from nltk.corpus import stopwords\n",
    "from nltk.stem import SnowballStemmer\n",
    "from nltk.tokenize import word_tokenize\n",
    "\n",
    "from sklearn.model_selection import train_test_split\n",
    "\n",
    "from sklearn.impute import SimpleImputer\n",
    "from sklearn.preprocessing import MinMaxScaler\n",
    "from sklearn.feature_extraction.text import TfidfVectorizer\n",
    "from sklearn.pipeline import Pipeline\n",
    "from sklearn.compose import ColumnTransformer\n",
    "\n",
    "from sagemaker.session import Session\n",
    "import sagemaker\n",
    "import boto3\n",
    "\n",
    "nltk.download('punkt')\n",
    "nltk.download('stopwords')"
   ]
  },
  {
   "cell_type": "code",
   "execution_count": 3,
   "id": "0e55c7c7-45f5-4eb3-a69a-330b501fc296",
   "metadata": {},
   "outputs": [],
   "source": [
    "AWS_ACCESS_KEY = 'stunning'\n",
    "AWS_SECRET = 'isnt it'\n",
    "\n",
    "region_name='us-east-2'\n",
    "\n",
    "boto_session = boto3.session.Session(\n",
    "   aws_access_key_id=AWS_ACCESS_KEY,\n",
    "   aws_secret_access_key=AWS_SECRET,\n",
    "   region_name=region_name\n",
    ")\n",
    "\n",
    "sagemaker_session = Session(boto_session=boto_session)\n",
    "\n",
    "model_package_group_name = f\"AmazonModelPackageGroupName\"\n",
    "\n",
    "role = 'arn:aws:iam::013747046745:role/sagemaker-role-amazon'"
   ]
  },
  {
   "cell_type": "code",
   "execution_count": 4,
   "id": "13d696d3-52bb-48c7-b3ed-7b252141c4f1",
   "metadata": {},
   "outputs": [
    {
     "data": {
      "text/html": [
       "<div>\n",
       "<style scoped>\n",
       "    .dataframe tbody tr th:only-of-type {\n",
       "        vertical-align: middle;\n",
       "    }\n",
       "\n",
       "    .dataframe tbody tr th {\n",
       "        vertical-align: top;\n",
       "    }\n",
       "\n",
       "    .dataframe thead th {\n",
       "        text-align: right;\n",
       "    }\n",
       "</style>\n",
       "<table border=\"1\" class=\"dataframe\">\n",
       "  <thead>\n",
       "    <tr style=\"text-align: right;\">\n",
       "      <th></th>\n",
       "      <th>label</th>\n",
       "      <th>text</th>\n",
       "    </tr>\n",
       "  </thead>\n",
       "  <tbody>\n",
       "    <tr>\n",
       "      <th>0</th>\n",
       "      <td>1</td>\n",
       "      <td>Stuning even for the non-gamerThis sound track...</td>\n",
       "    </tr>\n",
       "    <tr>\n",
       "      <th>1</th>\n",
       "      <td>1</td>\n",
       "      <td>The best soundtrack ever to anything.I'm readi...</td>\n",
       "    </tr>\n",
       "    <tr>\n",
       "      <th>2</th>\n",
       "      <td>1</td>\n",
       "      <td>Amazing!This soundtrack is my favorite music o...</td>\n",
       "    </tr>\n",
       "    <tr>\n",
       "      <th>3</th>\n",
       "      <td>1</td>\n",
       "      <td>Excellent SoundtrackI truly like this soundtra...</td>\n",
       "    </tr>\n",
       "    <tr>\n",
       "      <th>4</th>\n",
       "      <td>1</td>\n",
       "      <td>Remember, Pull Your Jaw Off The Floor After He...</td>\n",
       "    </tr>\n",
       "  </tbody>\n",
       "</table>\n",
       "</div>"
      ],
      "text/plain": [
       "   label                                               text\n",
       "0      1  Stuning even for the non-gamerThis sound track...\n",
       "1      1  The best soundtrack ever to anything.I'm readi...\n",
       "2      1  Amazing!This soundtrack is my favorite music o...\n",
       "3      1  Excellent SoundtrackI truly like this soundtra...\n",
       "4      1  Remember, Pull Your Jaw Off The Floor After He..."
      ]
     },
     "execution_count": 4,
     "metadata": {},
     "output_type": "execute_result"
    }
   ],
   "source": [
    "df = pd.read_csv('train_10k.csv', index_col=0)\n",
    "df.dropna(axis=0, how='any', inplace=True)\n",
    "df.head()"
   ]
  },
  {
   "cell_type": "code",
   "execution_count": 5,
   "id": "be55ad76-a4b4-4ee6-bc72-9f9ebcf41ba6",
   "metadata": {},
   "outputs": [
    {
     "data": {
      "text/plain": [
       "0.4903"
      ]
     },
     "execution_count": 5,
     "metadata": {},
     "output_type": "execute_result"
    }
   ],
   "source": [
    "#how balanced?\n",
    "df['label'].mean()"
   ]
  },
  {
   "cell_type": "code",
   "execution_count": 6,
   "id": "264c1539-5cdb-4241-890f-ec8c7d2e0560",
   "metadata": {},
   "outputs": [
    {
     "data": {
      "text/html": [
       "<div>\n",
       "<style scoped>\n",
       "    .dataframe tbody tr th:only-of-type {\n",
       "        vertical-align: middle;\n",
       "    }\n",
       "\n",
       "    .dataframe tbody tr th {\n",
       "        vertical-align: top;\n",
       "    }\n",
       "\n",
       "    .dataframe thead th {\n",
       "        text-align: right;\n",
       "    }\n",
       "</style>\n",
       "<table border=\"1\" class=\"dataframe\">\n",
       "  <thead>\n",
       "    <tr style=\"text-align: right;\">\n",
       "      <th></th>\n",
       "      <th>label</th>\n",
       "      <th>text</th>\n",
       "    </tr>\n",
       "  </thead>\n",
       "  <tbody>\n",
       "    <tr>\n",
       "      <th>0</th>\n",
       "      <td>1</td>\n",
       "      <td>Great CDMy lovely Pat has one of the GREAT voi...</td>\n",
       "    </tr>\n",
       "    <tr>\n",
       "      <th>1</th>\n",
       "      <td>1</td>\n",
       "      <td>One of the best game music soundtracks - for a...</td>\n",
       "    </tr>\n",
       "    <tr>\n",
       "      <th>2</th>\n",
       "      <td>0</td>\n",
       "      <td>Batteries died within a year ...I bought this ...</td>\n",
       "    </tr>\n",
       "    <tr>\n",
       "      <th>3</th>\n",
       "      <td>1</td>\n",
       "      <td>works fine, but Maha Energy is betterCheck out...</td>\n",
       "    </tr>\n",
       "    <tr>\n",
       "      <th>4</th>\n",
       "      <td>1</td>\n",
       "      <td>Great for the non-audiophileReviewed quite a b...</td>\n",
       "    </tr>\n",
       "  </tbody>\n",
       "</table>\n",
       "</div>"
      ],
      "text/plain": [
       "   label                                               text\n",
       "0      1  Great CDMy lovely Pat has one of the GREAT voi...\n",
       "1      1  One of the best game music soundtracks - for a...\n",
       "2      0  Batteries died within a year ...I bought this ...\n",
       "3      1  works fine, but Maha Energy is betterCheck out...\n",
       "4      1  Great for the non-audiophileReviewed quite a b..."
      ]
     },
     "execution_count": 6,
     "metadata": {},
     "output_type": "execute_result"
    }
   ],
   "source": [
    "df_test = pd.read_csv('test_5k.csv', index_col=0)\n",
    "df_test.dropna(axis=0, how='any', inplace=True)\n",
    "df_test.head()"
   ]
  },
  {
   "cell_type": "markdown",
   "id": "6c68c5e8-3801-41cc-b768-5284f63b1ebf",
   "metadata": {},
   "source": [
    "#### Train-Validation-Split on Dummy 10k"
   ]
  },
  {
   "cell_type": "code",
   "execution_count": 7,
   "id": "092fd30c-6d53-4aee-893e-bd90c0ed5765",
   "metadata": {},
   "outputs": [],
   "source": [
    "X_train, X_val, y_train, y_val = train_test_split(df[[\"text\"]],\n",
    "                                                  df[\"label\"],\n",
    "                                                  test_size=0.20,\n",
    "                                                  shuffle=True,\n",
    "                                                  random_state=324\n",
    "                                                 )\n",
    "X_test, y_test = df_test['text'], df_test['label']"
   ]
  },
  {
   "cell_type": "markdown",
   "id": "f6bfa9bf-81d8-44dc-a224-85e359774b72",
   "metadata": {},
   "source": [
    "#### Data processing with Pipeline and ColumnTransform"
   ]
  },
  {
   "cell_type": "code",
   "execution_count": 8,
   "id": "8728a51c-960e-4795-b781-1a5b638663c8",
   "metadata": {},
   "outputs": [],
   "source": [
    "#define model features and target\n",
    "model_features = ['text']\n",
    "model_target = 'label'"
   ]
  },
  {
   "cell_type": "code",
   "execution_count": 19,
   "id": "5ce5d63b-5ab3-486f-b62b-cae2ae0ca6b5",
   "metadata": {},
   "outputs": [
    {
     "data": {
      "text/plain": [
       "TfidfVectorizer(max_df=0.95, min_df=5, stop_words='english',\n",
       "                strip_accents='ascii')"
      ]
     },
     "execution_count": 19,
     "metadata": {},
     "output_type": "execute_result"
    }
   ],
   "source": [
    "tfidf = TfidfVectorizer(strip_accents='ascii', \n",
    "                        lowercase=True,\n",
    "                        analyzer = 'word',\n",
    "                        stop_words='english',\n",
    "                        token_pattern = r'(?u)\\b\\w\\w+\\b',\\\n",
    "                        max_df=0.95,\n",
    "                        min_df = 5\n",
    "                       )\n",
    "tfidf.fit(X_train['text'])\n"
   ]
  },
  {
   "cell_type": "code",
   "execution_count": 20,
   "id": "7e9fbf16-010d-4375-8087-079269397065",
   "metadata": {},
   "outputs": [],
   "source": [
    "X_train = tfidf.transform(X_train['text']).toarray()\n",
    "X_val = tfidf.transform(X_val['text']).toarray()\n",
    "X_test = tfidf.transform(X_test).toarray()"
   ]
  },
  {
   "cell_type": "markdown",
   "id": "8bcba668-71a3-4ffc-9d97-14a401f22891",
   "metadata": {},
   "source": [
    "#### Train a classifier with SageMaker build-in algorithm"
   ]
  },
  {
   "cell_type": "code",
   "execution_count": 21,
   "id": "ba713db6-0241-4580-a115-33d888c75f04",
   "metadata": {},
   "outputs": [],
   "source": [
    "#Call the LinearLearner estimator object\n",
    "linear_classifier = sagemaker.LinearLearner(role=role,\n",
    "                                            instance_count=1,\n",
    "                                            instance_type='ml.m4.xlarge',\n",
    "                                            predictor_type='binary_classifier')"
   ]
  },
  {
   "cell_type": "code",
   "execution_count": 22,
   "id": "924ded3c-e088-4e90-b062-c6778d157bde",
   "metadata": {},
   "outputs": [],
   "source": [
    "train_records = linear_classifier.record_set(X_train.astype(\"float32\"),\n",
    "                                            y_train.values.astype(\"float32\"),\n",
    "                                            channel='train')\n",
    "val_records = linear_classifier.record_set(X_val.astype(\"float32\"),\n",
    "                                          y_val.values.astype(\"float32\"),\n",
    "                                          channel='validation')\n",
    "test_records = linear_classifier.record_set(X_test.astype(\"float32\"),\n",
    "                                           y_test.values.astype(\"float32\"),\n",
    "                                           channel='test')"
   ]
  },
  {
   "cell_type": "code",
   "execution_count": 23,
   "id": "55e72e01-b7f6-4afa-82de-569d1783897e",
   "metadata": {},
   "outputs": [
    {
     "name": "stderr",
     "output_type": "stream",
     "text": [
      "Defaulting to the only supported framework/algorithm version: 1. Ignoring framework/algorithm version: 1.\n",
      "Defaulting to the only supported framework/algorithm version: 1. Ignoring framework/algorithm version: 1.\n"
     ]
    },
    {
     "name": "stdout",
     "output_type": "stream",
     "text": [
      "\n",
      "2022-06-01 04:59:35 Starting - Starting the training job.....\n",
      "2022-06-01 05:00:00 Starting - Preparing the instances for training............\n",
      "2022-06-01 05:01:10 Downloading - Downloading input data.......\n",
      "2022-06-01 05:01:49 Training - Downloading the training image.........\n",
      "2022-06-01 05:02:36 Training - Training image download completed. Training in progress........\n",
      "2022-06-01 05:03:21 Uploading - Uploading generated training model..\n",
      "2022-06-01 05:03:31 Completed - Training job completed\n",
      "CPU times: user 339 ms, sys: 34 ms, total: 373 ms\n",
      "Wall time: 4min 1s\n"
     ]
    }
   ],
   "source": [
    "%%time\n",
    "linear_classifier.fit([train_records,\n",
    "                       val_records,\n",
    "                       test_records],\n",
    "                      logs=False)"
   ]
  },
  {
   "cell_type": "markdown",
   "id": "683a92bc-b8ba-4e53-9c36-73d52885915e",
   "metadata": {},
   "source": [
    "#### Model Evaluation"
   ]
  },
  {
   "cell_type": "code",
   "execution_count": 24,
   "id": "f4001b83-6c16-4306-a541-4338b53867c7",
   "metadata": {},
   "outputs": [
    {
     "data": {
      "text/html": [
       "<div>\n",
       "<style scoped>\n",
       "    .dataframe tbody tr th:only-of-type {\n",
       "        vertical-align: middle;\n",
       "    }\n",
       "\n",
       "    .dataframe tbody tr th {\n",
       "        vertical-align: top;\n",
       "    }\n",
       "\n",
       "    .dataframe thead th {\n",
       "        text-align: right;\n",
       "    }\n",
       "</style>\n",
       "<table border=\"1\" class=\"dataframe\">\n",
       "  <thead>\n",
       "    <tr style=\"text-align: right;\">\n",
       "      <th></th>\n",
       "      <th>timestamp</th>\n",
       "      <th>metric_name</th>\n",
       "      <th>value</th>\n",
       "    </tr>\n",
       "  </thead>\n",
       "  <tbody>\n",
       "    <tr>\n",
       "      <th>0</th>\n",
       "      <td>0.0</td>\n",
       "      <td>test:binary_classification_accuracy</td>\n",
       "      <td>0.819382</td>\n",
       "    </tr>\n",
       "  </tbody>\n",
       "</table>\n",
       "</div>"
      ],
      "text/plain": [
       "   timestamp                          metric_name     value\n",
       "0        0.0  test:binary_classification_accuracy  0.819382"
      ]
     },
     "execution_count": 24,
     "metadata": {},
     "output_type": "execute_result"
    }
   ],
   "source": [
    "sagemaker.analytics.TrainingJobAnalytics(linear_classifier._current_job_name, \n",
    "                                         metric_names = ['test:binary_classification_accuracy']\n",
    "                                        ).dataframe()"
   ]
  },
  {
   "cell_type": "markdown",
   "id": "c5a75453-4c15-4a71-8bbe-50a1d64bb03f",
   "metadata": {},
   "source": [
    "#### Deploy Model to Endpoint"
   ]
  },
  {
   "cell_type": "code",
   "execution_count": 25,
   "id": "b9bbab98-55fc-4b2e-9897-a2bae8c02fe8",
   "metadata": {},
   "outputs": [
    {
     "name": "stderr",
     "output_type": "stream",
     "text": [
      "Defaulting to the only supported framework/algorithm version: 1. Ignoring framework/algorithm version: 1.\n"
     ]
    },
    {
     "name": "stdout",
     "output_type": "stream",
     "text": [
      "-------!CPU times: user 536 ms, sys: 8.11 ms, total: 544 ms\n",
      "Wall time: 3min 31s\n"
     ]
    }
   ],
   "source": [
    "%%time\n",
    "linear_classifier_predictor = linear_classifier.deploy(initial_instance_count = 1,\n",
    "                                                       instance_type = 'ml.t2.medium',\n",
    "                                                       endpoint_name = 'NLPLinearLearnerEndpoint'\n",
    "                                                      )"
   ]
  },
  {
   "cell_type": "markdown",
   "id": "9f1ac53f-793e-4e41-9743-1adb9a548d12",
   "metadata": {},
   "source": [
    "#### Test the Endpoint"
   ]
  },
  {
   "cell_type": "code",
   "execution_count": 27,
   "id": "2b78557a-398a-444b-a84c-23639ff5aabe",
   "metadata": {},
   "outputs": [
    {
     "name": "stdout",
     "output_type": "stream",
     "text": [
      "[0.713131308555603, 0.8066731095314026]\n"
     ]
    }
   ],
   "source": [
    "#make X_test smaller to avoid exceeding limits\n",
    "prediction_batches = [linear_classifier_predictor.predict(batch)\n",
    "                      for batch in np.array_split(X_test[:50].astype(\"float32\"), 25)\n",
    "                     ]\n",
    "\n",
    "# Let's get a list of predictions\n",
    "print([pred.label['score'].float32_tensor.values[0] for pred in prediction_batches[0]])"
   ]
  },
  {
   "cell_type": "markdown",
   "id": "c2a22bf5-cea7-4a53-b410-01fa734b638d",
   "metadata": {},
   "source": [
    "#### Kill the Endpoint"
   ]
  },
  {
   "cell_type": "code",
   "execution_count": 28,
   "id": "474e54ba-f681-4d5b-8cbb-8e4c2ac16f9f",
   "metadata": {},
   "outputs": [],
   "source": [
    "linear_classifier_predictor.delete_endpoint()"
   ]
  },
  {
   "cell_type": "code",
   "execution_count": null,
   "id": "74a84d46-cb80-47d9-80d4-20aa090c0fba",
   "metadata": {},
   "outputs": [],
   "source": []
  }
 ],
 "metadata": {
  "kernelspec": {
   "display_name": "default:Python",
   "language": "python",
   "name": "conda-env-default-py"
  },
  "language_info": {
   "codemirror_mode": {
    "name": "ipython",
    "version": 3
   },
   "file_extension": ".py",
   "mimetype": "text/x-python",
   "name": "python",
   "nbconvert_exporter": "python",
   "pygments_lexer": "ipython3",
   "version": "3.9.12"
  }
 },
 "nbformat": 4,
 "nbformat_minor": 5
}
