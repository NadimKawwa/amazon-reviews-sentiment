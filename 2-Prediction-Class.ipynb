{
 "cells": [
  {
   "cell_type": "code",
   "execution_count": 6,
   "metadata": {},
   "outputs": [],
   "source": [
    "import os\n",
    "\n",
    "import pandas as pd\n",
    "import numpy as np\n",
    "import xgboost as xgb\n",
    "from xgboost import XGBClassifier\n",
    "\n",
    "import matplotlib.pyplot as plt\n",
    "import matplotlib.mlab as mlab\n",
    "\n",
    "from sklearn.feature_extraction.text import TfidfVectorizer\n",
    "from sklearn.model_selection import GridSearchCV\n",
    "from sklearn.metrics import confusion_matrix\n",
    "\n",
    "%matplotlib inline\n",
    "\n",
    "\n",
    "class SentimentPrediction:\n",
    "    def __init__(self, \n",
    "                 train_path=None,\n",
    "                 test_path=None, \n",
    "                 train_rows=10_000,\n",
    "                 test_rows=5_000):\n",
    "        \n",
    "        #init paths and params\n",
    "        self.train_path = train_path\n",
    "        self.test_path = test_path\n",
    "        self.train_rows=train_rows\n",
    "        self.test_rows = test_rows\n",
    "        #load train and test data\n",
    "        self.df_train = pd.read_csv(train_path, \n",
    "                                      nrows=self.train_rows, \n",
    "                                      header=None,\n",
    "                                      names=['label', 'title', 'review'])\n",
    "        self.df_test = pd.read_csv(test_path, \n",
    "                                      nrows=self.train_rows, \n",
    "                                      header=None,\n",
    "                                      names=['label', 'title', 'review'])\n",
    "        #quick fix labels\n",
    "        self.df_train.replace({'label': {1:0, 2:1}}, inplace=True)\n",
    "        self.df_test.replace({'label': {1:0, 2:1}}, inplace=True)\n",
    "        \n",
    "        #merge title+review into one column\n",
    "        self.df_train['text'] = self.df_train['title'] + self.df_train['review']\n",
    "        self.df_train = self.df_train.drop(labels=['title', 'review'], axis=1)\n",
    "        \n",
    "        self.df_test['text'] = self.df_test['title'] + self.df_test['review']\n",
    "        self.df_test = self.df_test.drop(labels=['title', 'review'], axis=1)\n",
    "        \n",
    "        #drop rows with a missing label and/or missing text\n",
    "        self.df_train.dropna(axis=0, how='any', inplace=True)\n",
    "        self.df_test.dropna(axis=0, how='any', inplace=True)\n",
    "        \n",
    "        \n",
    "    def fit_Tfidf(self,\n",
    "                  strip_accents='ascii', \n",
    "                  lowercase=True,\n",
    "                  analyzer = 'word',\n",
    "                  stop_words='english',\n",
    "                  token_pattern = r'(?u)\\b\\w\\w+\\b',\n",
    "                  max_df = 0.95,\n",
    "                  min_df = 5\n",
    "                 ):\n",
    "        \n",
    "        self.tfidf = TfidfVectorizer(strip_accents=strip_accents, \n",
    "                        lowercase=lowercase,\n",
    "                        analyzer = 'word',\n",
    "                        stop_words=stop_words,\n",
    "                        token_pattern = token_pattern,\n",
    "                        max_df = max_df,\n",
    "                        min_df = min_df\n",
    "                       )\n",
    "        \n",
    "        self.X_train = self.tfidf.fit_transform(self.df_train['text'])\n",
    "        self.y_train = self.df_train['label']\n",
    "        \n",
    "        self.X_test = self.tfidf.transform(self.df_test['text'])\n",
    "        self.y_test = self.df_test['label']\n",
    "        \n",
    "    def train_xgb(self,\n",
    "                  params = {\"max_depth\": 2, \n",
    "                            \"eta\": 1, \n",
    "                            \"objective\": \"binary:logistic\"}, \n",
    "                  num_round=10):\n",
    "        self.dtrain = xgb.DMatrix(data=self.X_train, label=self.y_train)\n",
    "        self.dtest = xgb.DMatrix(data=self.X_test, label=self.y_test)\n",
    "        \n",
    "\n",
    "        \n",
    "        self.estimator = XGBClassifier(**params)\n",
    "        \n",
    "        self.estimator.fit(self.X_train, self.y_train)\n",
    "        \n",
    "    def gridSearch(self, param_grid, verbose=10):\n",
    "        self.grid_search = GridSearchCV(\n",
    "            estimator=XGBClassifier(),\n",
    "            param_grid=param_grid,\n",
    "            scoring = 'accuracy',\n",
    "            n_jobs = -1,\n",
    "            cv = 5,\n",
    "            verbose=verbose)\n",
    "        self.grid_search.fit(self.X_train, self.y_train)\n",
    "        \n",
    "        \n",
    "    def predict_labels(self):\n",
    "        \n",
    "        #check if user has done a grid search\n",
    "        if hasattr(self, 'grid_search'):\n",
    "            self.y_pred = self.grid_search.best_estimator_.predict(self.X_test)\n",
    "        else:\n",
    "            self.y_pred = self.estimator.predict(self.X_test)\n",
    "        \n",
    "        print(confusion_matrix(self.y_test, self.y_pred))\n",
    "        return np.mean(self.y_pred == self.y_test)"
   ]
  },
  {
   "cell_type": "code",
   "execution_count": 7,
   "metadata": {
    "scrolled": false
   },
   "outputs": [
    {
     "name": "stderr",
     "output_type": "stream",
     "text": [
      "/opt/anaconda3/lib/python3.8/site-packages/xgboost/sklearn.py:1146: UserWarning: The use of label encoder in XGBClassifier is deprecated and will be removed in a future release. To remove this warning, do the following: 1) Pass option use_label_encoder=False when constructing XGBClassifier object; and 2) Encode your labels (y) as integers starting with 0, i.e. 0, 1, 2, ..., [num_class - 1].\n",
      "  warnings.warn(label_encoder_deprecation_msg, UserWarning)\n"
     ]
    },
    {
     "name": "stdout",
     "output_type": "stream",
     "text": [
      "[20:03:17] WARNING: /Users/travis/build/dmlc/xgboost/src/learner.cc:1095: Starting in XGBoost 1.3.0, the default evaluation metric used with the objective 'binary:logistic' was changed from 'error' to 'logloss'. Explicitly set eval_metric if you'd like to restore the old behavior.\n"
     ]
    }
   ],
   "source": [
    "train_path = os.path.join('raw_data', 'train.csv')\n",
    "test_path = os.path.join('raw_data', 'test.csv')\n",
    "\n",
    "sentiment = SentimentPrediction(train_path, test_path)\n",
    "sentiment.fit_Tfidf()\n",
    "\n",
    "sentiment.train_xgb()"
   ]
  },
  {
   "cell_type": "code",
   "execution_count": 8,
   "metadata": {},
   "outputs": [
    {
     "name": "stdout",
     "output_type": "stream",
     "text": [
      "[[3883  991]\n",
      " [1016 4109]]\n"
     ]
    },
    {
     "data": {
      "text/plain": [
       "0.7992799279927992"
      ]
     },
     "execution_count": 8,
     "metadata": {},
     "output_type": "execute_result"
    }
   ],
   "source": [
    "sentiment.predict_labels()"
   ]
  },
  {
   "cell_type": "code",
   "execution_count": 9,
   "metadata": {
    "scrolled": false
   },
   "outputs": [
    {
     "name": "stdout",
     "output_type": "stream",
     "text": [
      "Fitting 5 folds for each of 16 candidates, totalling 80 fits\n"
     ]
    },
    {
     "name": "stderr",
     "output_type": "stream",
     "text": [
      "/opt/anaconda3/lib/python3.8/site-packages/xgboost/sklearn.py:1146: UserWarning: The use of label encoder in XGBClassifier is deprecated and will be removed in a future release. To remove this warning, do the following: 1) Pass option use_label_encoder=False when constructing XGBClassifier object; and 2) Encode your labels (y) as integers starting with 0, i.e. 0, 1, 2, ..., [num_class - 1].\n",
      "  warnings.warn(label_encoder_deprecation_msg, UserWarning)\n"
     ]
    },
    {
     "name": "stdout",
     "output_type": "stream",
     "text": [
      "[20:04:00] WARNING: /Users/travis/build/dmlc/xgboost/src/learner.cc:1095: Starting in XGBoost 1.3.0, the default evaluation metric used with the objective 'binary:logistic' was changed from 'error' to 'logloss'. Explicitly set eval_metric if you'd like to restore the old behavior.\n",
      "[[3979  895]\n",
      " [1708 3417]]\n"
     ]
    },
    {
     "data": {
      "text/plain": [
       "0.7396739673967396"
      ]
     },
     "execution_count": 9,
     "metadata": {},
     "output_type": "execute_result"
    }
   ],
   "source": [
    "param_grid = {\n",
    "    'max_depth': [2,1],\n",
    "    'eta': [1, 2],\n",
    "    'n_estimators': [50, 100],\n",
    "    'learning_rate': [0.01, 0.05],\n",
    "    'objective': ['binary:logistic']\n",
    "}\n",
    "\n",
    "sentiment.gridSearch(param_grid)\n",
    "sentiment.predict_labels()"
   ]
  },
  {
   "cell_type": "code",
   "execution_count": 10,
   "metadata": {
    "scrolled": false
   },
   "outputs": [],
   "source": [
    "# import boto3\n",
    "\n",
    "# bucket = \"amazon-reviews-sentiment-nk\"\n",
    "# file_name = \"train.csv\"\n",
    "\n",
    "# s3 = boto3.client('s3') \n",
    "# # 's3' is a key word. create connection to S3 using default config and all buckets within S3\n",
    "\n",
    "# obj = s3.get_object(Bucket= bucket, Key= file_name) \n",
    "# # get object and file (key) from bucket\n",
    "\n",
    "# initial_df = pd.read_csv(obj['Body'],\n",
    "#                          rows=self.train_rows,\n",
    "#                          header=None,\n",
    "#                          names=['label', 'title', 'review'])"
   ]
  },
  {
   "cell_type": "code",
   "execution_count": null,
   "metadata": {},
   "outputs": [],
   "source": []
  }
 ],
 "metadata": {
  "kernelspec": {
   "display_name": "Python 3",
   "language": "python",
   "name": "python3"
  },
  "language_info": {
   "codemirror_mode": {
    "name": "ipython",
    "version": 3
   },
   "file_extension": ".py",
   "mimetype": "text/x-python",
   "name": "python",
   "nbconvert_exporter": "python",
   "pygments_lexer": "ipython3",
   "version": "3.8.5"
  }
 },
 "nbformat": 4,
 "nbformat_minor": 4
}
